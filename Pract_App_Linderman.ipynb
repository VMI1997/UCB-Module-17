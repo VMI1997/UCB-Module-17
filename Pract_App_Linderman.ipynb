{
  "cells": [
    {
      "cell_type": "markdown",
      "metadata": {
        "id": "view-in-github",
        "colab_type": "text"
      },
      "source": [
        "<a href=\"https://colab.research.google.com/github/VMI1997/UCB-Module-17/blob/main/Pract_App_Linderman.ipynb\" target=\"_parent\"><img src=\"https://colab.research.google.com/assets/colab-badge.svg\" alt=\"Open In Colab\"/></a>"
      ]
    },
    {
      "cell_type": "markdown",
      "metadata": {
        "id": "lgH55GuVFEBf"
      },
      "source": [
        "# Practical Application III: Comparing Classifiers\n",
        "\n",
        "**Overview**: In this practical application, your goal is to compare the performance of the classifiers we encountered in this section, namely K Nearest Neighbor, Logistic Regression, Decision Trees, and Support Vector Machines.  We will utilize a dataset related to marketing bank products over the telephone.  \n",
        "\n"
      ]
    },
    {
      "cell_type": "markdown",
      "metadata": {
        "id": "Vd-ox3JUFEBg"
      },
      "source": [
        "### Getting Started\n",
        "\n",
        "Our dataset comes from the UCI Machine Learning repository [link](https://archive.ics.uci.edu/ml/datasets/bank+marketing).  The data is from a Portugese banking institution and is a collection of the results of multiple marketing campaigns.  We will make use of the article accompanying the dataset [here](CRISP-DM-BANK.pdf) for more information on the data and features.\n",
        "\n"
      ]
    },
    {
      "cell_type": "markdown",
      "metadata": {
        "id": "6O6jCf7-FEBh"
      },
      "source": [
        "### Problem 1: Understanding the Data\n",
        "\n",
        "To gain a better understanding of the data, please read the information provided in the UCI link above, and examine the **Materials and Methods** section of the paper.  How many marketing campaigns does this data represent?"
      ]
    },
    {
      "cell_type": "markdown",
      "source": [
        "Per the provided documentation:\n",
        "The dataset collected is related to 17 campaigns that\n",
        "occurred between May 2008 and November 2010,\n",
        "corresponding to a total of 79354 contacts"
      ],
      "metadata": {
        "id": "tXe3KYHQKmGr"
      }
    },
    {
      "cell_type": "code",
      "execution_count": null,
      "metadata": {
        "id": "FhcZoOU6FEBh"
      },
      "outputs": [],
      "source": []
    },
    {
      "cell_type": "markdown",
      "metadata": {
        "id": "8MPQ7JODFEBi"
      },
      "source": [
        "### Problem 2: Read in the Data\n",
        "\n",
        "Use pandas to read in the dataset `bank-additional-full.csv` and assign to a meaningful variable name."
      ]
    },
    {
      "cell_type": "code",
      "execution_count": 3,
      "metadata": {
        "id": "oeadPRg_FEBi"
      },
      "outputs": [],
      "source": [
        "import pandas as pd"
      ]
    },
    {
      "cell_type": "code",
      "execution_count": 4,
      "metadata": {
        "id": "w2Ur3qa-FEBi"
      },
      "outputs": [],
      "source": [
        "df = pd.read_csv('bank-additional-full.csv', sep = ';')"
      ]
    },
    {
      "cell_type": "code",
      "execution_count": null,
      "metadata": {
        "colab": {
          "base_uri": "https://localhost:8080/",
          "height": 256
        },
        "id": "xs1J2UJTFEBi",
        "outputId": "efee8e4a-1ef1-44f1-d726-b9e512fb9dad"
      },
      "outputs": [
        {
          "output_type": "execute_result",
          "data": {
            "text/plain": [
              "   age        job  marital    education  default housing loan    contact  \\\n",
              "0   56  housemaid  married     basic.4y       no      no   no  telephone   \n",
              "1   57   services  married  high.school  unknown      no   no  telephone   \n",
              "2   37   services  married  high.school       no     yes   no  telephone   \n",
              "3   40     admin.  married     basic.6y       no      no   no  telephone   \n",
              "4   56   services  married  high.school       no      no  yes  telephone   \n",
              "\n",
              "  month day_of_week  ...  campaign  pdays  previous     poutcome emp.var.rate  \\\n",
              "0   may         mon  ...         1    999         0  nonexistent          1.1   \n",
              "1   may         mon  ...         1    999         0  nonexistent          1.1   \n",
              "2   may         mon  ...         1    999         0  nonexistent          1.1   \n",
              "3   may         mon  ...         1    999         0  nonexistent          1.1   \n",
              "4   may         mon  ...         1    999         0  nonexistent          1.1   \n",
              "\n",
              "   cons.price.idx  cons.conf.idx  euribor3m  nr.employed   y  \n",
              "0          93.994          -36.4      4.857       5191.0  no  \n",
              "1          93.994          -36.4      4.857       5191.0  no  \n",
              "2          93.994          -36.4      4.857       5191.0  no  \n",
              "3          93.994          -36.4      4.857       5191.0  no  \n",
              "4          93.994          -36.4      4.857       5191.0  no  \n",
              "\n",
              "[5 rows x 21 columns]"
            ],
            "text/html": [
              "\n",
              "  <div id=\"df-9b378f8a-05a2-4fd2-a37f-9ddf29f5bb91\" class=\"colab-df-container\">\n",
              "    <div>\n",
              "<style scoped>\n",
              "    .dataframe tbody tr th:only-of-type {\n",
              "        vertical-align: middle;\n",
              "    }\n",
              "\n",
              "    .dataframe tbody tr th {\n",
              "        vertical-align: top;\n",
              "    }\n",
              "\n",
              "    .dataframe thead th {\n",
              "        text-align: right;\n",
              "    }\n",
              "</style>\n",
              "<table border=\"1\" class=\"dataframe\">\n",
              "  <thead>\n",
              "    <tr style=\"text-align: right;\">\n",
              "      <th></th>\n",
              "      <th>age</th>\n",
              "      <th>job</th>\n",
              "      <th>marital</th>\n",
              "      <th>education</th>\n",
              "      <th>default</th>\n",
              "      <th>housing</th>\n",
              "      <th>loan</th>\n",
              "      <th>contact</th>\n",
              "      <th>month</th>\n",
              "      <th>day_of_week</th>\n",
              "      <th>...</th>\n",
              "      <th>campaign</th>\n",
              "      <th>pdays</th>\n",
              "      <th>previous</th>\n",
              "      <th>poutcome</th>\n",
              "      <th>emp.var.rate</th>\n",
              "      <th>cons.price.idx</th>\n",
              "      <th>cons.conf.idx</th>\n",
              "      <th>euribor3m</th>\n",
              "      <th>nr.employed</th>\n",
              "      <th>y</th>\n",
              "    </tr>\n",
              "  </thead>\n",
              "  <tbody>\n",
              "    <tr>\n",
              "      <th>0</th>\n",
              "      <td>56</td>\n",
              "      <td>housemaid</td>\n",
              "      <td>married</td>\n",
              "      <td>basic.4y</td>\n",
              "      <td>no</td>\n",
              "      <td>no</td>\n",
              "      <td>no</td>\n",
              "      <td>telephone</td>\n",
              "      <td>may</td>\n",
              "      <td>mon</td>\n",
              "      <td>...</td>\n",
              "      <td>1</td>\n",
              "      <td>999</td>\n",
              "      <td>0</td>\n",
              "      <td>nonexistent</td>\n",
              "      <td>1.1</td>\n",
              "      <td>93.994</td>\n",
              "      <td>-36.4</td>\n",
              "      <td>4.857</td>\n",
              "      <td>5191.0</td>\n",
              "      <td>no</td>\n",
              "    </tr>\n",
              "    <tr>\n",
              "      <th>1</th>\n",
              "      <td>57</td>\n",
              "      <td>services</td>\n",
              "      <td>married</td>\n",
              "      <td>high.school</td>\n",
              "      <td>unknown</td>\n",
              "      <td>no</td>\n",
              "      <td>no</td>\n",
              "      <td>telephone</td>\n",
              "      <td>may</td>\n",
              "      <td>mon</td>\n",
              "      <td>...</td>\n",
              "      <td>1</td>\n",
              "      <td>999</td>\n",
              "      <td>0</td>\n",
              "      <td>nonexistent</td>\n",
              "      <td>1.1</td>\n",
              "      <td>93.994</td>\n",
              "      <td>-36.4</td>\n",
              "      <td>4.857</td>\n",
              "      <td>5191.0</td>\n",
              "      <td>no</td>\n",
              "    </tr>\n",
              "    <tr>\n",
              "      <th>2</th>\n",
              "      <td>37</td>\n",
              "      <td>services</td>\n",
              "      <td>married</td>\n",
              "      <td>high.school</td>\n",
              "      <td>no</td>\n",
              "      <td>yes</td>\n",
              "      <td>no</td>\n",
              "      <td>telephone</td>\n",
              "      <td>may</td>\n",
              "      <td>mon</td>\n",
              "      <td>...</td>\n",
              "      <td>1</td>\n",
              "      <td>999</td>\n",
              "      <td>0</td>\n",
              "      <td>nonexistent</td>\n",
              "      <td>1.1</td>\n",
              "      <td>93.994</td>\n",
              "      <td>-36.4</td>\n",
              "      <td>4.857</td>\n",
              "      <td>5191.0</td>\n",
              "      <td>no</td>\n",
              "    </tr>\n",
              "    <tr>\n",
              "      <th>3</th>\n",
              "      <td>40</td>\n",
              "      <td>admin.</td>\n",
              "      <td>married</td>\n",
              "      <td>basic.6y</td>\n",
              "      <td>no</td>\n",
              "      <td>no</td>\n",
              "      <td>no</td>\n",
              "      <td>telephone</td>\n",
              "      <td>may</td>\n",
              "      <td>mon</td>\n",
              "      <td>...</td>\n",
              "      <td>1</td>\n",
              "      <td>999</td>\n",
              "      <td>0</td>\n",
              "      <td>nonexistent</td>\n",
              "      <td>1.1</td>\n",
              "      <td>93.994</td>\n",
              "      <td>-36.4</td>\n",
              "      <td>4.857</td>\n",
              "      <td>5191.0</td>\n",
              "      <td>no</td>\n",
              "    </tr>\n",
              "    <tr>\n",
              "      <th>4</th>\n",
              "      <td>56</td>\n",
              "      <td>services</td>\n",
              "      <td>married</td>\n",
              "      <td>high.school</td>\n",
              "      <td>no</td>\n",
              "      <td>no</td>\n",
              "      <td>yes</td>\n",
              "      <td>telephone</td>\n",
              "      <td>may</td>\n",
              "      <td>mon</td>\n",
              "      <td>...</td>\n",
              "      <td>1</td>\n",
              "      <td>999</td>\n",
              "      <td>0</td>\n",
              "      <td>nonexistent</td>\n",
              "      <td>1.1</td>\n",
              "      <td>93.994</td>\n",
              "      <td>-36.4</td>\n",
              "      <td>4.857</td>\n",
              "      <td>5191.0</td>\n",
              "      <td>no</td>\n",
              "    </tr>\n",
              "  </tbody>\n",
              "</table>\n",
              "<p>5 rows × 21 columns</p>\n",
              "</div>\n",
              "    <div class=\"colab-df-buttons\">\n",
              "\n",
              "  <div class=\"colab-df-container\">\n",
              "    <button class=\"colab-df-convert\" onclick=\"convertToInteractive('df-9b378f8a-05a2-4fd2-a37f-9ddf29f5bb91')\"\n",
              "            title=\"Convert this dataframe to an interactive table.\"\n",
              "            style=\"display:none;\">\n",
              "\n",
              "  <svg xmlns=\"http://www.w3.org/2000/svg\" height=\"24px\" viewBox=\"0 -960 960 960\">\n",
              "    <path d=\"M120-120v-720h720v720H120Zm60-500h600v-160H180v160Zm220 220h160v-160H400v160Zm0 220h160v-160H400v160ZM180-400h160v-160H180v160Zm440 0h160v-160H620v160ZM180-180h160v-160H180v160Zm440 0h160v-160H620v160Z\"/>\n",
              "  </svg>\n",
              "    </button>\n",
              "\n",
              "  <style>\n",
              "    .colab-df-container {\n",
              "      display:flex;\n",
              "      gap: 12px;\n",
              "    }\n",
              "\n",
              "    .colab-df-convert {\n",
              "      background-color: #E8F0FE;\n",
              "      border: none;\n",
              "      border-radius: 50%;\n",
              "      cursor: pointer;\n",
              "      display: none;\n",
              "      fill: #1967D2;\n",
              "      height: 32px;\n",
              "      padding: 0 0 0 0;\n",
              "      width: 32px;\n",
              "    }\n",
              "\n",
              "    .colab-df-convert:hover {\n",
              "      background-color: #E2EBFA;\n",
              "      box-shadow: 0px 1px 2px rgba(60, 64, 67, 0.3), 0px 1px 3px 1px rgba(60, 64, 67, 0.15);\n",
              "      fill: #174EA6;\n",
              "    }\n",
              "\n",
              "    .colab-df-buttons div {\n",
              "      margin-bottom: 4px;\n",
              "    }\n",
              "\n",
              "    [theme=dark] .colab-df-convert {\n",
              "      background-color: #3B4455;\n",
              "      fill: #D2E3FC;\n",
              "    }\n",
              "\n",
              "    [theme=dark] .colab-df-convert:hover {\n",
              "      background-color: #434B5C;\n",
              "      box-shadow: 0px 1px 3px 1px rgba(0, 0, 0, 0.15);\n",
              "      filter: drop-shadow(0px 1px 2px rgba(0, 0, 0, 0.3));\n",
              "      fill: #FFFFFF;\n",
              "    }\n",
              "  </style>\n",
              "\n",
              "    <script>\n",
              "      const buttonEl =\n",
              "        document.querySelector('#df-9b378f8a-05a2-4fd2-a37f-9ddf29f5bb91 button.colab-df-convert');\n",
              "      buttonEl.style.display =\n",
              "        google.colab.kernel.accessAllowed ? 'block' : 'none';\n",
              "\n",
              "      async function convertToInteractive(key) {\n",
              "        const element = document.querySelector('#df-9b378f8a-05a2-4fd2-a37f-9ddf29f5bb91');\n",
              "        const dataTable =\n",
              "          await google.colab.kernel.invokeFunction('convertToInteractive',\n",
              "                                                    [key], {});\n",
              "        if (!dataTable) return;\n",
              "\n",
              "        const docLinkHtml = 'Like what you see? Visit the ' +\n",
              "          '<a target=\"_blank\" href=https://colab.research.google.com/notebooks/data_table.ipynb>data table notebook</a>'\n",
              "          + ' to learn more about interactive tables.';\n",
              "        element.innerHTML = '';\n",
              "        dataTable['output_type'] = 'display_data';\n",
              "        await google.colab.output.renderOutput(dataTable, element);\n",
              "        const docLink = document.createElement('div');\n",
              "        docLink.innerHTML = docLinkHtml;\n",
              "        element.appendChild(docLink);\n",
              "      }\n",
              "    </script>\n",
              "  </div>\n",
              "\n",
              "\n",
              "<div id=\"df-3d096597-0966-4849-85b1-8510d0449f53\">\n",
              "  <button class=\"colab-df-quickchart\" onclick=\"quickchart('df-3d096597-0966-4849-85b1-8510d0449f53')\"\n",
              "            title=\"Suggest charts\"\n",
              "            style=\"display:none;\">\n",
              "\n",
              "<svg xmlns=\"http://www.w3.org/2000/svg\" height=\"24px\"viewBox=\"0 0 24 24\"\n",
              "     width=\"24px\">\n",
              "    <g>\n",
              "        <path d=\"M19 3H5c-1.1 0-2 .9-2 2v14c0 1.1.9 2 2 2h14c1.1 0 2-.9 2-2V5c0-1.1-.9-2-2-2zM9 17H7v-7h2v7zm4 0h-2V7h2v10zm4 0h-2v-4h2v4z\"/>\n",
              "    </g>\n",
              "</svg>\n",
              "  </button>\n",
              "\n",
              "<style>\n",
              "  .colab-df-quickchart {\n",
              "      --bg-color: #E8F0FE;\n",
              "      --fill-color: #1967D2;\n",
              "      --hover-bg-color: #E2EBFA;\n",
              "      --hover-fill-color: #174EA6;\n",
              "      --disabled-fill-color: #AAA;\n",
              "      --disabled-bg-color: #DDD;\n",
              "  }\n",
              "\n",
              "  [theme=dark] .colab-df-quickchart {\n",
              "      --bg-color: #3B4455;\n",
              "      --fill-color: #D2E3FC;\n",
              "      --hover-bg-color: #434B5C;\n",
              "      --hover-fill-color: #FFFFFF;\n",
              "      --disabled-bg-color: #3B4455;\n",
              "      --disabled-fill-color: #666;\n",
              "  }\n",
              "\n",
              "  .colab-df-quickchart {\n",
              "    background-color: var(--bg-color);\n",
              "    border: none;\n",
              "    border-radius: 50%;\n",
              "    cursor: pointer;\n",
              "    display: none;\n",
              "    fill: var(--fill-color);\n",
              "    height: 32px;\n",
              "    padding: 0;\n",
              "    width: 32px;\n",
              "  }\n",
              "\n",
              "  .colab-df-quickchart:hover {\n",
              "    background-color: var(--hover-bg-color);\n",
              "    box-shadow: 0 1px 2px rgba(60, 64, 67, 0.3), 0 1px 3px 1px rgba(60, 64, 67, 0.15);\n",
              "    fill: var(--button-hover-fill-color);\n",
              "  }\n",
              "\n",
              "  .colab-df-quickchart-complete:disabled,\n",
              "  .colab-df-quickchart-complete:disabled:hover {\n",
              "    background-color: var(--disabled-bg-color);\n",
              "    fill: var(--disabled-fill-color);\n",
              "    box-shadow: none;\n",
              "  }\n",
              "\n",
              "  .colab-df-spinner {\n",
              "    border: 2px solid var(--fill-color);\n",
              "    border-color: transparent;\n",
              "    border-bottom-color: var(--fill-color);\n",
              "    animation:\n",
              "      spin 1s steps(1) infinite;\n",
              "  }\n",
              "\n",
              "  @keyframes spin {\n",
              "    0% {\n",
              "      border-color: transparent;\n",
              "      border-bottom-color: var(--fill-color);\n",
              "      border-left-color: var(--fill-color);\n",
              "    }\n",
              "    20% {\n",
              "      border-color: transparent;\n",
              "      border-left-color: var(--fill-color);\n",
              "      border-top-color: var(--fill-color);\n",
              "    }\n",
              "    30% {\n",
              "      border-color: transparent;\n",
              "      border-left-color: var(--fill-color);\n",
              "      border-top-color: var(--fill-color);\n",
              "      border-right-color: var(--fill-color);\n",
              "    }\n",
              "    40% {\n",
              "      border-color: transparent;\n",
              "      border-right-color: var(--fill-color);\n",
              "      border-top-color: var(--fill-color);\n",
              "    }\n",
              "    60% {\n",
              "      border-color: transparent;\n",
              "      border-right-color: var(--fill-color);\n",
              "    }\n",
              "    80% {\n",
              "      border-color: transparent;\n",
              "      border-right-color: var(--fill-color);\n",
              "      border-bottom-color: var(--fill-color);\n",
              "    }\n",
              "    90% {\n",
              "      border-color: transparent;\n",
              "      border-bottom-color: var(--fill-color);\n",
              "    }\n",
              "  }\n",
              "</style>\n",
              "\n",
              "  <script>\n",
              "    async function quickchart(key) {\n",
              "      const quickchartButtonEl =\n",
              "        document.querySelector('#' + key + ' button');\n",
              "      quickchartButtonEl.disabled = true;  // To prevent multiple clicks.\n",
              "      quickchartButtonEl.classList.add('colab-df-spinner');\n",
              "      try {\n",
              "        const charts = await google.colab.kernel.invokeFunction(\n",
              "            'suggestCharts', [key], {});\n",
              "      } catch (error) {\n",
              "        console.error('Error during call to suggestCharts:', error);\n",
              "      }\n",
              "      quickchartButtonEl.classList.remove('colab-df-spinner');\n",
              "      quickchartButtonEl.classList.add('colab-df-quickchart-complete');\n",
              "    }\n",
              "    (() => {\n",
              "      let quickchartButtonEl =\n",
              "        document.querySelector('#df-3d096597-0966-4849-85b1-8510d0449f53 button');\n",
              "      quickchartButtonEl.style.display =\n",
              "        google.colab.kernel.accessAllowed ? 'block' : 'none';\n",
              "    })();\n",
              "  </script>\n",
              "</div>\n",
              "\n",
              "    </div>\n",
              "  </div>\n"
            ],
            "application/vnd.google.colaboratory.intrinsic+json": {
              "type": "dataframe",
              "variable_name": "df"
            }
          },
          "metadata": {},
          "execution_count": 3
        }
      ],
      "source": [
        "df.head()"
      ]
    },
    {
      "cell_type": "markdown",
      "metadata": {
        "id": "9UNkrgQyFEBj"
      },
      "source": [
        "### Problem 3: Understanding the Features\n",
        "\n",
        "\n",
        "Examine the data description below, and determine if any of the features are missing values or need to be coerced to a different data type.\n",
        "\n",
        "\n",
        "```\n",
        "Input variables:\n",
        "# bank client data:\n",
        "1 - age (numeric)\n",
        "2 - job : type of job (categorical: 'admin.','blue-collar','entrepreneur','housemaid','management','retired','self-employed','services','student','technician','unemployed','unknown')\n",
        "3 - marital : marital status (categorical: 'divorced','married','single','unknown'; note: 'divorced' means divorced or widowed)\n",
        "4 - education (categorical: 'basic.4y','basic.6y','basic.9y','high.school','illiterate','professional.course','university.degree','unknown')\n",
        "5 - default: has credit in default? (categorical: 'no','yes','unknown')\n",
        "6 - housing: has housing loan? (categorical: 'no','yes','unknown')\n",
        "7 - loan: has personal loan? (categorical: 'no','yes','unknown')\n",
        "# related with the last contact of the current campaign:\n",
        "8 - contact: contact communication type (categorical: 'cellular','telephone')\n",
        "9 - month: last contact month of year (categorical: 'jan', 'feb', 'mar', ..., 'nov', 'dec')\n",
        "10 - day_of_week: last contact day of the week (categorical: 'mon','tue','wed','thu','fri')\n",
        "11 - duration: last contact duration, in seconds (numeric). Important note: this attribute highly affects the output target (e.g., if duration=0 then y='no'). Yet, the duration is not known before a call is performed. Also, after the end of the call y is obviously known. Thus, this input should only be included for benchmark purposes and should be discarded if the intention is to have a realistic predictive model.\n",
        "# other attributes:\n",
        "12 - campaign: number of contacts performed during this campaign and for this client (numeric, includes last contact)\n",
        "13 - pdays: number of days that passed by after the client was last contacted from a previous campaign (numeric; 999 means client was not previously contacted)\n",
        "14 - previous: number of contacts performed before this campaign and for this client (numeric)\n",
        "15 - poutcome: outcome of the previous marketing campaign (categorical: 'failure','nonexistent','success')\n",
        "# social and economic context attributes\n",
        "16 - emp.var.rate: employment variation rate - quarterly indicator (numeric)\n",
        "17 - cons.price.idx: consumer price index - monthly indicator (numeric)\n",
        "18 - cons.conf.idx: consumer confidence index - monthly indicator (numeric)\n",
        "19 - euribor3m: euribor 3 month rate - daily indicator (numeric)\n",
        "20 - nr.employed: number of employees - quarterly indicator (numeric)\n",
        "\n",
        "Output variable (desired target):\n",
        "21 - y - has the client subscribed a term deposit? (binary: 'yes','no')\n",
        "```\n",
        "\n"
      ]
    },
    {
      "cell_type": "code",
      "execution_count": null,
      "metadata": {
        "id": "Egb6hv2YFEBj"
      },
      "outputs": [],
      "source": []
    },
    {
      "cell_type": "markdown",
      "metadata": {
        "id": "KT9tQUGqFEBk"
      },
      "source": [
        "### Problem 4: Understanding the Task\n",
        "\n",
        "After examining the description and data, your goal now is to clearly state the *Business Objective* of the task.  State the objective below."
      ]
    },
    {
      "cell_type": "code",
      "execution_count": null,
      "metadata": {
        "colab": {
          "base_uri": "https://localhost:8080/"
        },
        "id": "Txtx4VmaFEBk",
        "outputId": "427135c2-508c-4186-e1ba-5834062cfbe8"
      },
      "outputs": [
        {
          "output_type": "stream",
          "name": "stdout",
          "text": [
            "<class 'pandas.core.frame.DataFrame'>\n",
            "RangeIndex: 41188 entries, 0 to 41187\n",
            "Data columns (total 21 columns):\n",
            " #   Column          Non-Null Count  Dtype  \n",
            "---  ------          --------------  -----  \n",
            " 0   age             41188 non-null  int64  \n",
            " 1   job             41188 non-null  object \n",
            " 2   marital         41188 non-null  object \n",
            " 3   education       41188 non-null  object \n",
            " 4   default         41188 non-null  object \n",
            " 5   housing         41188 non-null  object \n",
            " 6   loan            41188 non-null  object \n",
            " 7   contact         41188 non-null  object \n",
            " 8   month           41188 non-null  object \n",
            " 9   day_of_week     41188 non-null  object \n",
            " 10  duration        41188 non-null  int64  \n",
            " 11  campaign        41188 non-null  int64  \n",
            " 12  pdays           41188 non-null  int64  \n",
            " 13  previous        41188 non-null  int64  \n",
            " 14  poutcome        41188 non-null  object \n",
            " 15  emp.var.rate    41188 non-null  float64\n",
            " 16  cons.price.idx  41188 non-null  float64\n",
            " 17  cons.conf.idx   41188 non-null  float64\n",
            " 18  euribor3m       41188 non-null  float64\n",
            " 19  nr.employed     41188 non-null  float64\n",
            " 20  y               41188 non-null  object \n",
            "dtypes: float64(5), int64(5), object(11)\n",
            "memory usage: 6.6+ MB\n"
          ]
        }
      ],
      "source": [
        "df.info()"
      ]
    },
    {
      "cell_type": "code",
      "execution_count": null,
      "metadata": {
        "id": "tfkKXKTzFEBk"
      },
      "outputs": [],
      "source": []
    },
    {
      "cell_type": "code",
      "execution_count": null,
      "metadata": {
        "id": "JLHA3aebFEBk"
      },
      "outputs": [],
      "source": []
    },
    {
      "cell_type": "markdown",
      "metadata": {
        "id": "ZxkFSoJiFEBk"
      },
      "source": [
        "### Problem 5: Engineering Features\n",
        "\n",
        "Now that you understand your business objective, we will build a basic model to get started.  Before we can do this, we must work to encode the data.  Using just the bank information features, prepare the features and target column for modeling with appropriate encoding and transformations."
      ]
    },
    {
      "cell_type": "code",
      "execution_count": 5,
      "metadata": {
        "colab": {
          "base_uri": "https://localhost:8080/"
        },
        "id": "7iBOM2JLFEBk",
        "outputId": "6c232090-eb1c-4e74-9a1e-b255553de106"
      },
      "outputs": [
        {
          "output_type": "stream",
          "name": "stderr",
          "text": [
            "<ipython-input-5-ab704ec30234>:3: SettingWithCopyWarning: \n",
            "A value is trying to be set on a copy of a slice from a DataFrame\n",
            "\n",
            "See the caveats in the documentation: https://pandas.pydata.org/pandas-docs/stable/user_guide/indexing.html#returning-a-view-versus-a-copy\n",
            "  df.drop('default', axis=1, inplace=True)\n"
          ]
        },
        {
          "output_type": "stream",
          "name": "stdout",
          "text": [
            "<class 'pandas.core.frame.DataFrame'>\n",
            "Index: 38245 entries, 0 to 41187\n",
            "Data columns (total 56 columns):\n",
            " #   Column                         Non-Null Count  Dtype  \n",
            "---  ------                         --------------  -----  \n",
            " 0   age                            38245 non-null  int64  \n",
            " 1   duration                       38245 non-null  int64  \n",
            " 2   campaign                       38245 non-null  int64  \n",
            " 3   pdays                          38245 non-null  int64  \n",
            " 4   previous                       38245 non-null  int64  \n",
            " 5   emp.var.rate                   38245 non-null  float64\n",
            " 6   cons.price.idx                 38245 non-null  float64\n",
            " 7   cons.conf.idx                  38245 non-null  float64\n",
            " 8   euribor3m                      38245 non-null  float64\n",
            " 9   nr.employed                    38245 non-null  float64\n",
            " 10  y                              38245 non-null  int64  \n",
            " 11  job_admin.                     38245 non-null  int64  \n",
            " 12  job_blue-collar                38245 non-null  int64  \n",
            " 13  job_entrepreneur               38245 non-null  int64  \n",
            " 14  job_housemaid                  38245 non-null  int64  \n",
            " 15  job_management                 38245 non-null  int64  \n",
            " 16  job_retired                    38245 non-null  int64  \n",
            " 17  job_self-employed              38245 non-null  int64  \n",
            " 18  job_services                   38245 non-null  int64  \n",
            " 19  job_student                    38245 non-null  int64  \n",
            " 20  job_technician                 38245 non-null  int64  \n",
            " 21  job_unemployed                 38245 non-null  int64  \n",
            " 22  education_basic.4y             38245 non-null  int64  \n",
            " 23  education_basic.6y             38245 non-null  int64  \n",
            " 24  education_basic.9y             38245 non-null  int64  \n",
            " 25  education_high.school          38245 non-null  int64  \n",
            " 26  education_illiterate           38245 non-null  int64  \n",
            " 27  education_professional.course  38245 non-null  int64  \n",
            " 28  education_university.degree    38245 non-null  int64  \n",
            " 29  marital_divorced               38245 non-null  int64  \n",
            " 30  marital_married                38245 non-null  int64  \n",
            " 31  marital_single                 38245 non-null  int64  \n",
            " 32  housing_no                     38245 non-null  int64  \n",
            " 33  housing_yes                    38245 non-null  int64  \n",
            " 34  loan_no                        38245 non-null  int64  \n",
            " 35  loan_yes                       38245 non-null  int64  \n",
            " 36  contact_cellular               38245 non-null  int64  \n",
            " 37  contact_telephone              38245 non-null  int64  \n",
            " 38  month_apr                      38245 non-null  int64  \n",
            " 39  month_aug                      38245 non-null  int64  \n",
            " 40  month_dec                      38245 non-null  int64  \n",
            " 41  month_jul                      38245 non-null  int64  \n",
            " 42  month_jun                      38245 non-null  int64  \n",
            " 43  month_mar                      38245 non-null  int64  \n",
            " 44  month_may                      38245 non-null  int64  \n",
            " 45  month_nov                      38245 non-null  int64  \n",
            " 46  month_oct                      38245 non-null  int64  \n",
            " 47  month_sep                      38245 non-null  int64  \n",
            " 48  day_of_week_fri                38245 non-null  int64  \n",
            " 49  day_of_week_mon                38245 non-null  int64  \n",
            " 50  day_of_week_thu                38245 non-null  int64  \n",
            " 51  day_of_week_tue                38245 non-null  int64  \n",
            " 52  day_of_week_wed                38245 non-null  int64  \n",
            " 53  poutcome_failure               38245 non-null  int64  \n",
            " 54  poutcome_nonexistent           38245 non-null  int64  \n",
            " 55  poutcome_success               38245 non-null  int64  \n",
            "dtypes: float64(5), int64(51)\n",
            "memory usage: 16.6 MB\n"
          ]
        }
      ],
      "source": [
        "#First remove unknowns\n",
        "df = df[df['job'] != 'unknown']\n",
        "df.drop('default', axis=1, inplace=True)\n",
        "df = df[df['housing'] != 'unknown']\n",
        "df = df[df['loan'] != 'unknown']\n",
        "df = df[df['education'] != 'unknown']\n",
        "df = df[df['marital'] != 'unknown']\n",
        "\n",
        "#Address non-numerics with one-hot encoding where applicable\n",
        "df = pd.get_dummies(df, columns=['job'], dtype='int')\n",
        "df = pd.get_dummies(df, columns=['education'], dtype='int')\n",
        "df = pd.get_dummies(df, columns=['marital'], dtype='int')\n",
        "df = pd.get_dummies(df, columns=['housing'], dtype='int')\n",
        "df = pd.get_dummies(df, columns=['loan'], dtype='int')\n",
        "df = pd.get_dummies(df, columns=['contact'], dtype='int')\n",
        "df = pd.get_dummies(df, columns=['month'], dtype='int')\n",
        "df = pd.get_dummies(df, columns=['day_of_week'], dtype='int')\n",
        "df = pd.get_dummies(df, columns=['poutcome'], dtype='int')\n",
        "\n",
        "df['y'] = df['y'].map({'yes': 1, 'no': 0})\n",
        "\n",
        "\n",
        "df.info()"
      ]
    },
    {
      "cell_type": "code",
      "execution_count": 8,
      "metadata": {
        "colab": {
          "base_uri": "https://localhost:8080/",
          "height": 487
        },
        "id": "nNVHdq2mFEBk",
        "outputId": "3dbf8796-97b9-4782-f2c8-3ef3728642c8"
      },
      "outputs": [
        {
          "output_type": "display_data",
          "data": {
            "text/plain": [
              "<Figure size 1500x500 with 5 Axes>"
            ],
            "image/png": "[encoded data removed]"
          },
          "metadata": {}
        }
      ],
      "source": [
        "#Visualizations - examine characteristics of some potential key features\n",
        "import seaborn as sns\n",
        "import matplotlib.pyplot as plt\n",
        "columns = ['age', 'duration','cons.price.idx','euribor3m','emp.var.rate']\n",
        "fig, axes = plt.subplots(1, len(columns), figsize=(15, 5))\n",
        "for i, col in enumerate(columns):\n",
        "    sns.histplot(df[col], ax=axes[i], kde=True)\n",
        "    axes[i].set_title(f'Histogram of {col}')\n"
      ]
    },
    {
      "cell_type": "code",
      "execution_count": null,
      "metadata": {
        "id": "dxgSVGctFEBk"
      },
      "outputs": [],
      "source": []
    },
    {
      "cell_type": "markdown",
      "metadata": {
        "id": "cT46RWQiFEBk"
      },
      "source": [
        "### Problem 6: Train/Test Split\n",
        "\n",
        "With your data prepared, split it into a train and test set."
      ]
    },
    {
      "cell_type": "code",
      "execution_count": 9,
      "metadata": {
        "id": "XLGjoUBpFEBk"
      },
      "outputs": [],
      "source": [
        "from sklearn.model_selection import train_test_split\n",
        "X = df.drop('y', axis=1)\n",
        "y = df['y']\n",
        "# Assuming you have your features in X and target variable in y\n",
        "X_train, X_test, y_train, y_test = train_test_split(X, y, test_size=0.2, random_state=42)"
      ]
    },
    {
      "cell_type": "code",
      "execution_count": null,
      "metadata": {
        "id": "u9wj9k9ZFEBk"
      },
      "outputs": [],
      "source": []
    },
    {
      "cell_type": "code",
      "execution_count": null,
      "metadata": {
        "id": "h3xNBwoyFEBk"
      },
      "outputs": [],
      "source": []
    },
    {
      "cell_type": "markdown",
      "metadata": {
        "id": "AJ0OPBqiFEBl"
      },
      "source": [
        "### Problem 7: A Baseline Model\n",
        "\n",
        "Before we build our first model, we want to establish a baseline.  What is the baseline performance that our classifier should aim to beat?"
      ]
    },
    {
      "cell_type": "code",
      "execution_count": null,
      "metadata": {
        "colab": {
          "base_uri": "https://localhost:8080/"
        },
        "id": "CwhWlCSCFEBl",
        "outputId": "88b93cac-ad1c-4ceb-9249-52ea700915be"
      },
      "outputs": [
        {
          "output_type": "stream",
          "name": "stdout",
          "text": [
            "0.11133481500849784\n",
            "38245\n"
          ]
        }
      ],
      "source": [
        "# Assume same guess of YES for each instance - model performance is simply the total \"yes\" values divided by total of \"yes and no\"\n",
        "# This should be similar to the \"constant\" DummyClassifier\n",
        "count_yes = df['y'].value_counts().get(1,0)\n",
        "count_no = df['y'].value_counts().get(0,0)\n",
        "count_total = count_yes + count_no\n",
        "base_perf = (count_yes) / count_total\n",
        "print(base_perf)\n",
        "print(count_total)"
      ]
    },
    {
      "cell_type": "code",
      "execution_count": 10,
      "metadata": {
        "colab": {
          "base_uri": "https://localhost:8080/"
        },
        "id": "3GcALASqFEBl",
        "outputId": "5a8bdd17-a4de-41e3-dc56-80822f46c1fe"
      },
      "outputs": [
        {
          "output_type": "stream",
          "name": "stdout",
          "text": [
            "[0.8879592103542947, 0.8058569747679435, 0.49300562164988887, 0.11204078964570532, 0.8879592103542947]\n"
          ]
        }
      ],
      "source": [
        "from sklearn.model_selection import train_test_split\n",
        "from sklearn.dummy import DummyClassifier\n",
        "from sklearn.metrics import accuracy_score\n",
        "strategies = ['most_frequent', 'stratified', 'uniform', 'constant','prior']\n",
        "\n",
        "test_scores = []\n",
        "for s in strategies:\n",
        "    if s =='constant':\n",
        "        dclf = DummyClassifier(strategy = s, random_state = 0, constant = 1)\n",
        "    else:\n",
        "        dclf = DummyClassifier(strategy = s, random_state = 0)\n",
        "    dclf.fit(X_train, y_train)\n",
        "    score = dclf.score(X_test, y_test)\n",
        "    test_scores.append(score)\n",
        "\n",
        "print(test_scores)"
      ]
    },
    {
      "cell_type": "code",
      "execution_count": 10,
      "metadata": {
        "id": "uB0LwAC9FEBl"
      },
      "outputs": [],
      "source": []
    },
    {
      "cell_type": "markdown",
      "metadata": {
        "id": "sUV_qJ4PFEBl"
      },
      "source": [
        "### Problem 8: A Simple Model\n",
        "\n",
        "Use Logistic Regression to build a basic model on your data.  "
      ]
    },
    {
      "cell_type": "code",
      "execution_count": 12,
      "metadata": {
        "colab": {
          "base_uri": "https://localhost:8080/"
        },
        "id": "SeXqQimTFEBl",
        "outputId": "190191fa-8ab0-45df-900a-a005b0a4f3ba"
      },
      "outputs": [
        {
          "output_type": "stream",
          "name": "stdout",
          "text": [
            "The test accuracy is: 0.9097921296901555\n",
            "The train accuracy is: 0.909530657602301\n",
            "The training time is: 1.5508394241333008 seconds.\n",
            "The coefficients for this model are: \n",
            "age: -0.0046814331499530175\n",
            "duration: 0.004550489568779895\n",
            "campaign: -0.05830928125454157\n",
            "pdays: -0.0014680677861286604\n",
            "previous: 0.005244328611882083\n",
            "emp.var.rate: -0.2468562421284598\n",
            "cons.price.idx: 0.20190233087099307\n",
            "cons.conf.idx: 0.0490505370471702\n",
            "euribor3m: -0.2630609041481121\n",
            "nr.employed: -0.003550976633794869\n",
            "job_admin.: 0.016851429014064157\n",
            "job_blue-collar: -0.02730920763218684\n",
            "job_entrepreneur: -0.003441508484406065\n",
            "job_housemaid: -0.00038084458052996907\n",
            "job_management: -0.0001938357267250183\n",
            "job_retired: 0.010174452310029706\n",
            "job_self-employed: -4.594749753605836e-05\n",
            "job_services: -0.009348749231957797\n",
            "job_student: 0.008632320835510597\n",
            "job_technician: 0.005940697772352447\n",
            "job_unemployed: 0.0016973667750677472\n",
            "education_basic.4y: -0.006929921660613171\n",
            "education_basic.6y: -0.005843835478514185\n",
            "education_basic.9y: -0.013959021858894418\n",
            "education_high.school: -0.0036547908800538395\n",
            "education_illiterate: -5.4182712199712525e-05\n",
            "education_professional.course: 0.0045588789232372095\n",
            "education_university.degree: 0.028459047220857396\n",
            "marital_divorced: -0.0031949074466788396\n",
            "marital_married: -0.015747797754057522\n",
            "marital_single: 0.021518878754659732\n",
            "housing_no: -0.0034990060167830804\n",
            "housing_yes: 0.006075179570598\n",
            "loan_no: 0.0073418708974738196\n",
            "loan_yes: -0.004765697343605565\n",
            "contact_cellular: 0.044722221289670266\n",
            "contact_telephone: -0.0421460477355074\n",
            "month_apr: 0.01013136997903819\n",
            "month_aug: 0.006020224578444142\n",
            "month_dec: 0.002914926742281847\n",
            "month_jul: 0.00030660716527391475\n",
            "month_jun: 0.007177956887006267\n",
            "month_mar: 0.020095501777706498\n",
            "month_may: -0.056931359192830835\n",
            "month_nov: -0.0038593335163335327\n",
            "month_oct: 0.01060131715549322\n",
            "month_sep: 0.006118961977670438\n",
            "day_of_week_fri: -0.0025987252004311223\n",
            "day_of_week_mon: -0.006725356007052907\n",
            "day_of_week_thu: 0.003119569937903873\n",
            "day_of_week_tue: 0.004832048849350243\n",
            "day_of_week_wed: 0.003948635974078173\n",
            "poutcome_failure: -0.004360313874075132\n",
            "poutcome_nonexistent: 0.0021967188321385042\n",
            "poutcome_success: 0.004739768595793677\n"
          ]
        },
        {
          "output_type": "stream",
          "name": "stderr",
          "text": [
            "/usr/local/lib/python3.11/dist-packages/sklearn/linear_model/_logistic.py:465: ConvergenceWarning: lbfgs failed to converge (status=1):\n",
            "STOP: TOTAL NO. of ITERATIONS REACHED LIMIT.\n",
            "\n",
            "Increase the number of iterations (max_iter) or scale the data as shown in:\n",
            "    https://scikit-learn.org/stable/modules/preprocessing.html\n",
            "Please also refer to the documentation for alternative solver options:\n",
            "    https://scikit-learn.org/stable/modules/linear_model.html#logistic-regression\n",
            "  n_iter_i = _check_optimize_result(\n"
          ]
        }
      ],
      "source": [
        "import pandas as pd\n",
        "from sklearn.model_selection import train_test_split\n",
        "from sklearn.linear_model import LogisticRegression\n",
        "from sklearn.metrics import accuracy_score\n",
        "import time\n",
        "lr_model = LogisticRegression()\n",
        "#Start timer to capture training time\n",
        "start_time = time.time()\n",
        "lr_model.fit(X_train, y_train)\n",
        "#End timer to capture training time\n",
        "end_time = time.time()\n",
        "#Calculate the total training time\n",
        "lr_training_time = end_time - start_time\n",
        "#Make predictions on test data and measure model accuracy\n",
        "lr_test_pred = lr_model.predict(X_test)\n",
        "lr_test_acc = accuracy_score(y_test, lr_test_pred)\n",
        "print(\"The test accuracy is: \" + str(lr_test_acc))\n",
        "#Make predictions on train data and measure model accuracy\n",
        "lr_train_pred = lr_model.predict(X_train)\n",
        "lr_train_acc = accuracy_score(y_train, lr_train_pred)\n",
        "print(\"The train accuracy is: \" + str(lr_train_acc))\n",
        "#Report on total training time for basic LR model\n",
        "print(\"The training time is: \" + str(lr_training_time) + \" seconds.\")\n",
        "\n",
        "# Get the coefficients\n",
        "coefficients = lr_model.coef_[0]\n",
        "\n",
        "# Get the feature names\n",
        "feature_names = X.columns\n",
        "\n",
        "# Print coefficients with corresponding feature names\n",
        "print(\"The coefficients for this model are: \")\n",
        "for feature, coef in zip(feature_names, coefficients):\n",
        "    print(f\"{feature}: {coef}\")\n",
        "\n"
      ]
    },
    {
      "cell_type": "markdown",
      "metadata": {
        "id": "QA1Atq-FFEBl"
      },
      "source": [
        "### Problem 9: Score the Model\n",
        "\n",
        "What is the accuracy of your model?"
      ]
    },
    {
      "cell_type": "markdown",
      "source": [
        "Scoring the Model and Accuracy: The basic logistic regression model performed better than all of our baseline models - comparison below:\n",
        "\n",
        "Best baseline: 88.8% with \"most frequent\"\n",
        "Basic Logistic Regression: 90.98%"
      ],
      "metadata": {
        "id": "6loiBFFaGjiu"
      }
    },
    {
      "cell_type": "markdown",
      "metadata": {
        "id": "WBf1iTu5FEBl"
      },
      "source": [
        "### Problem 10: Model Comparisons\n",
        "\n",
        "Now, we aim to compare the performance of the Logistic Regression model to our KNN algorithm, Decision Tree, and SVM models.  Using the default settings for each of the models, fit and score each.  Also, be sure to compare the fit time of each of the models.  Present your findings in a `DataFrame` similar to that below:\n",
        "\n",
        "| Model | Train Time | Train Accuracy | Test Accuracy |\n",
        "| ----- | ---------- | -------------  | -----------   |\n",
        "|     |    |.     |.     |"
      ]
    },
    {
      "cell_type": "code",
      "execution_count": null,
      "metadata": {
        "colab": {
          "base_uri": "https://localhost:8080/"
        },
        "id": "J_Kap0nZFEBl",
        "outputId": "6fbb9dbe-4942-4694-a5fd-37226f6474cb"
      },
      "outputs": [
        {
          "output_type": "stream",
          "name": "stdout",
          "text": [
            "The test accuracy is: 0.8921427637599686\n",
            "The train accuracy is: 1.0\n",
            "The training time is: 0.27515363693237305 seconds.\n"
          ]
        }
      ],
      "source": [
        "#Decsion Tree Classifier\n",
        "from sklearn.tree import DecisionTreeClassifier\n",
        "\n",
        "dtc = DecisionTreeClassifier()\n",
        "#Start timer to capture training time\n",
        "start_time = time.time()\n",
        "dtc.fit(X_train, y_train)\n",
        "#End timer to capture training time\n",
        "end_time = time.time()\n",
        "#Calculate the total training time\n",
        "dtc_training_time = end_time - start_time\n",
        "dtc_test_pred = dtc.predict(X_test)\n",
        "dtc_test_acc = accuracy_score(y_test, dtc_test_pred)\n",
        "print(\"The test accuracy is: \" + str(dtc_test_acc))\n",
        "#Make predictions on train data and measure model accuracy\n",
        "dtc_train_pred = dtc.predict(X_train)\n",
        "dtc_train_acc = accuracy_score(y_train, dtc_train_pred)\n",
        "print(\"The train accuracy is: \" + str(dtc_train_acc))\n",
        "#Report on total training time for basic LR model\n",
        "print(\"The training time is: \" + str(dtc_training_time) + \" seconds.\")"
      ]
    },
    {
      "cell_type": "code",
      "execution_count": null,
      "metadata": {
        "colab": {
          "base_uri": "https://localhost:8080/"
        },
        "id": "oYRKqhWBFEBl",
        "outputId": "0ca4965e-e6ba-4540-d9a5-52902bb62144"
      },
      "outputs": [
        {
          "output_type": "stream",
          "name": "stdout",
          "text": [
            "The test accuracy is: 0.9078310890312459\n",
            "The train accuracy is: 0.9310040528173618\n",
            "The training time is: 0.01612257957458496 seconds.\n"
          ]
        }
      ],
      "source": [
        "#KNN\n",
        "from sklearn.neighbors import KNeighborsClassifier\n",
        "knn = KNeighborsClassifier()\n",
        "#Start timer to capture training time\n",
        "start_time = time.time()\n",
        "knn.fit(X_train, y_train)\n",
        "#End timer to capture training time\n",
        "end_time = time.time()\n",
        "#Calculate the total training time\n",
        "knn_training_time = end_time - start_time\n",
        "#Make predictions on test data and measure model accuracy\n",
        "knn_test_pred = knn.predict(X_test)\n",
        "knn_test_acc = accuracy_score(y_test, knn_test_pred)\n",
        "print(\"The test accuracy is: \" + str(knn_test_acc))\n",
        "#Make predictions on train data and measure model accuracy\n",
        "knn_train_pred = knn.predict(X_train)\n",
        "knn_train_acc = accuracy_score(y_train, knn_train_pred)\n",
        "print(\"The train accuracy is: \" + str(knn_train_acc))\n",
        "#Report on total training time for basic LR model\n",
        "print(\"The training time is: \" + str(knn_training_time) + \" seconds.\")"
      ]
    },
    {
      "cell_type": "code",
      "execution_count": null,
      "metadata": {
        "colab": {
          "base_uri": "https://localhost:8080/"
        },
        "id": "EPKYucgrFEBl",
        "outputId": "bbda0820-84a3-427b-a81f-c82d0d47a6e3"
      },
      "outputs": [
        {
          "output_type": "stream",
          "name": "stdout",
          "text": [
            "The test accuracy is: 0.8964570532095699\n",
            "The train accuracy is: 0.8987776179892797\n",
            "The training time is: 17.016422271728516 seconds.\n"
          ]
        }
      ],
      "source": [
        "#SVM\n",
        "from sklearn.svm import SVC\n",
        "svm = SVC()\n",
        "#Start timer to capture training time\n",
        "start_time = time.time()\n",
        "svm.fit(X_train, y_train)\n",
        "#End timer to capture training time\n",
        "end_time = time.time()\n",
        "#Calculate the total training time\n",
        "svm_training_time = end_time - start_time\n",
        "svm_test_pred = svm.predict(X_test)\n",
        "svm_test_acc = accuracy_score(y_test, svm_test_pred)\n",
        "print(\"The test accuracy is: \" + str(svm_test_acc))\n",
        "#Make predictions on train data and measure model accuracy\n",
        "svm_train_pred = svm.predict(X_train)\n",
        "svm_train_acc = accuracy_score(y_train, svm_train_pred)\n",
        "print(\"The train accuracy is: \" + str(svm_train_acc))\n",
        "#Report on total training time for basic LR model\n",
        "print(\"The training time is: \" + str(svm_training_time) + \" seconds.\")"
      ]
    },
    {
      "cell_type": "code",
      "source": [
        "perf_results = {\n",
        "    'model': ['Logistic Regression', 'KNN', 'Decision Tree', 'SVM'],\n",
        "    'train_time': [lr_training_time, knn_training_time, dtc_training_time, svm_training_time],\n",
        "    'train_accuracy': [lr_train_acc, knn_train_acc, dtc_train_acc, svm_train_acc],\n",
        "    'test_accuracy': [lr_test_acc, knn_test_acc, dtc_test_acc, svm_test_acc]\n",
        "}\n",
        "perf_df = pd.DataFrame(perf_results)\n",
        "perf_df"
      ],
      "metadata": {
        "colab": {
          "base_uri": "https://localhost:8080/",
          "height": 175
        },
        "id": "vbgGOusvGwBb",
        "outputId": "8e0e5900-fff3-4945-8a56-9549069a3603"
      },
      "execution_count": null,
      "outputs": [
        {
          "output_type": "execute_result",
          "data": {
            "text/plain": [
              "                 model  train_time  train_accuracy  test_accuracy\n",
              "0  Logistic Regression    0.960049        0.909531       0.909792\n",
              "1                  KNN    0.016123        0.931004       0.907831\n",
              "2        Decision Tree    0.275154        1.000000       0.892143\n",
              "3                  SVM   17.016422        0.898778       0.896457"
            ],
            "text/html": [
              "\n",
              "  <div id=\"df-12a4d97e-4b03-4d3a-a21e-e6ed44d3a1c0\" class=\"colab-df-container\">\n",
              "    <div>\n",
              "<style scoped>\n",
              "    .dataframe tbody tr th:only-of-type {\n",
              "        vertical-align: middle;\n",
              "    }\n",
              "\n",
              "    .dataframe tbody tr th {\n",
              "        vertical-align: top;\n",
              "    }\n",
              "\n",
              "    .dataframe thead th {\n",
              "        text-align: right;\n",
              "    }\n",
              "</style>\n",
              "<table border=\"1\" class=\"dataframe\">\n",
              "  <thead>\n",
              "    <tr style=\"text-align: right;\">\n",
              "      <th></th>\n",
              "      <th>model</th>\n",
              "      <th>train_time</th>\n",
              "      <th>train_accuracy</th>\n",
              "      <th>test_accuracy</th>\n",
              "    </tr>\n",
              "  </thead>\n",
              "  <tbody>\n",
              "    <tr>\n",
              "      <th>0</th>\n",
              "      <td>Logistic Regression</td>\n",
              "      <td>0.960049</td>\n",
              "      <td>0.909531</td>\n",
              "      <td>0.909792</td>\n",
              "    </tr>\n",
              "    <tr>\n",
              "      <th>1</th>\n",
              "      <td>KNN</td>\n",
              "      <td>0.016123</td>\n",
              "      <td>0.931004</td>\n",
              "      <td>0.907831</td>\n",
              "    </tr>\n",
              "    <tr>\n",
              "      <th>2</th>\n",
              "      <td>Decision Tree</td>\n",
              "      <td>0.275154</td>\n",
              "      <td>1.000000</td>\n",
              "      <td>0.892143</td>\n",
              "    </tr>\n",
              "    <tr>\n",
              "      <th>3</th>\n",
              "      <td>SVM</td>\n",
              "      <td>17.016422</td>\n",
              "      <td>0.898778</td>\n",
              "      <td>0.896457</td>\n",
              "    </tr>\n",
              "  </tbody>\n",
              "</table>\n",
              "</div>\n",
              "    <div class=\"colab-df-buttons\">\n",
              "\n",
              "  <div class=\"colab-df-container\">\n",
              "    <button class=\"colab-df-convert\" onclick=\"convertToInteractive('df-12a4d97e-4b03-4d3a-a21e-e6ed44d3a1c0')\"\n",
              "            title=\"Convert this dataframe to an interactive table.\"\n",
              "            style=\"display:none;\">\n",
              "\n",
              "  <svg xmlns=\"http://www.w3.org/2000/svg\" height=\"24px\" viewBox=\"0 -960 960 960\">\n",
              "    <path d=\"M120-120v-720h720v720H120Zm60-500h600v-160H180v160Zm220 220h160v-160H400v160Zm0 220h160v-160H400v160ZM180-400h160v-160H180v160Zm440 0h160v-160H620v160ZM180-180h160v-160H180v160Zm440 0h160v-160H620v160Z\"/>\n",
              "  </svg>\n",
              "    </button>\n",
              "\n",
              "  <style>\n",
              "    .colab-df-container {\n",
              "      display:flex;\n",
              "      gap: 12px;\n",
              "    }\n",
              "\n",
              "    .colab-df-convert {\n",
              "      background-color: #E8F0FE;\n",
              "      border: none;\n",
              "      border-radius: 50%;\n",
              "      cursor: pointer;\n",
              "      display: none;\n",
              "      fill: #1967D2;\n",
              "      height: 32px;\n",
              "      padding: 0 0 0 0;\n",
              "      width: 32px;\n",
              "    }\n",
              "\n",
              "    .colab-df-convert:hover {\n",
              "      background-color: #E2EBFA;\n",
              "      box-shadow: 0px 1px 2px rgba(60, 64, 67, 0.3), 0px 1px 3px 1px rgba(60, 64, 67, 0.15);\n",
              "      fill: #174EA6;\n",
              "    }\n",
              "\n",
              "    .colab-df-buttons div {\n",
              "      margin-bottom: 4px;\n",
              "    }\n",
              "\n",
              "    [theme=dark] .colab-df-convert {\n",
              "      background-color: #3B4455;\n",
              "      fill: #D2E3FC;\n",
              "    }\n",
              "\n",
              "    [theme=dark] .colab-df-convert:hover {\n",
              "      background-color: #434B5C;\n",
              "      box-shadow: 0px 1px 3px 1px rgba(0, 0, 0, 0.15);\n",
              "      filter: drop-shadow(0px 1px 2px rgba(0, 0, 0, 0.3));\n",
              "      fill: #FFFFFF;\n",
              "    }\n",
              "  </style>\n",
              "\n",
              "    <script>\n",
              "      const buttonEl =\n",
              "        document.querySelector('#df-12a4d97e-4b03-4d3a-a21e-e6ed44d3a1c0 button.colab-df-convert');\n",
              "      buttonEl.style.display =\n",
              "        google.colab.kernel.accessAllowed ? 'block' : 'none';\n",
              "\n",
              "      async function convertToInteractive(key) {\n",
              "        const element = document.querySelector('#df-12a4d97e-4b03-4d3a-a21e-e6ed44d3a1c0');\n",
              "        const dataTable =\n",
              "          await google.colab.kernel.invokeFunction('convertToInteractive',\n",
              "                                                    [key], {});\n",
              "        if (!dataTable) return;\n",
              "\n",
              "        const docLinkHtml = 'Like what you see? Visit the ' +\n",
              "          '<a target=\"_blank\" href=https://colab.research.google.com/notebooks/data_table.ipynb>data table notebook</a>'\n",
              "          + ' to learn more about interactive tables.';\n",
              "        element.innerHTML = '';\n",
              "        dataTable['output_type'] = 'display_data';\n",
              "        await google.colab.output.renderOutput(dataTable, element);\n",
              "        const docLink = document.createElement('div');\n",
              "        docLink.innerHTML = docLinkHtml;\n",
              "        element.appendChild(docLink);\n",
              "      }\n",
              "    </script>\n",
              "  </div>\n",
              "\n",
              "\n",
              "<div id=\"df-a2b4b88f-6b21-429d-bac1-c79ea709379a\">\n",
              "  <button class=\"colab-df-quickchart\" onclick=\"quickchart('df-a2b4b88f-6b21-429d-bac1-c79ea709379a')\"\n",
              "            title=\"Suggest charts\"\n",
              "            style=\"display:none;\">\n",
              "\n",
              "<svg xmlns=\"http://www.w3.org/2000/svg\" height=\"24px\"viewBox=\"0 0 24 24\"\n",
              "     width=\"24px\">\n",
              "    <g>\n",
              "        <path d=\"M19 3H5c-1.1 0-2 .9-2 2v14c0 1.1.9 2 2 2h14c1.1 0 2-.9 2-2V5c0-1.1-.9-2-2-2zM9 17H7v-7h2v7zm4 0h-2V7h2v10zm4 0h-2v-4h2v4z\"/>\n",
              "    </g>\n",
              "</svg>\n",
              "  </button>\n",
              "\n",
              "<style>\n",
              "  .colab-df-quickchart {\n",
              "      --bg-color: #E8F0FE;\n",
              "      --fill-color: #1967D2;\n",
              "      --hover-bg-color: #E2EBFA;\n",
              "      --hover-fill-color: #174EA6;\n",
              "      --disabled-fill-color: #AAA;\n",
              "      --disabled-bg-color: #DDD;\n",
              "  }\n",
              "\n",
              "  [theme=dark] .colab-df-quickchart {\n",
              "      --bg-color: #3B4455;\n",
              "      --fill-color: #D2E3FC;\n",
              "      --hover-bg-color: #434B5C;\n",
              "      --hover-fill-color: #FFFFFF;\n",
              "      --disabled-bg-color: #3B4455;\n",
              "      --disabled-fill-color: #666;\n",
              "  }\n",
              "\n",
              "  .colab-df-quickchart {\n",
              "    background-color: var(--bg-color);\n",
              "    border: none;\n",
              "    border-radius: 50%;\n",
              "    cursor: pointer;\n",
              "    display: none;\n",
              "    fill: var(--fill-color);\n",
              "    height: 32px;\n",
              "    padding: 0;\n",
              "    width: 32px;\n",
              "  }\n",
              "\n",
              "  .colab-df-quickchart:hover {\n",
              "    background-color: var(--hover-bg-color);\n",
              "    box-shadow: 0 1px 2px rgba(60, 64, 67, 0.3), 0 1px 3px 1px rgba(60, 64, 67, 0.15);\n",
              "    fill: var(--button-hover-fill-color);\n",
              "  }\n",
              "\n",
              "  .colab-df-quickchart-complete:disabled,\n",
              "  .colab-df-quickchart-complete:disabled:hover {\n",
              "    background-color: var(--disabled-bg-color);\n",
              "    fill: var(--disabled-fill-color);\n",
              "    box-shadow: none;\n",
              "  }\n",
              "\n",
              "  .colab-df-spinner {\n",
              "    border: 2px solid var(--fill-color);\n",
              "    border-color: transparent;\n",
              "    border-bottom-color: var(--fill-color);\n",
              "    animation:\n",
              "      spin 1s steps(1) infinite;\n",
              "  }\n",
              "\n",
              "  @keyframes spin {\n",
              "    0% {\n",
              "      border-color: transparent;\n",
              "      border-bottom-color: var(--fill-color);\n",
              "      border-left-color: var(--fill-color);\n",
              "    }\n",
              "    20% {\n",
              "      border-color: transparent;\n",
              "      border-left-color: var(--fill-color);\n",
              "      border-top-color: var(--fill-color);\n",
              "    }\n",
              "    30% {\n",
              "      border-color: transparent;\n",
              "      border-left-color: var(--fill-color);\n",
              "      border-top-color: var(--fill-color);\n",
              "      border-right-color: var(--fill-color);\n",
              "    }\n",
              "    40% {\n",
              "      border-color: transparent;\n",
              "      border-right-color: var(--fill-color);\n",
              "      border-top-color: var(--fill-color);\n",
              "    }\n",
              "    60% {\n",
              "      border-color: transparent;\n",
              "      border-right-color: var(--fill-color);\n",
              "    }\n",
              "    80% {\n",
              "      border-color: transparent;\n",
              "      border-right-color: var(--fill-color);\n",
              "      border-bottom-color: var(--fill-color);\n",
              "    }\n",
              "    90% {\n",
              "      border-color: transparent;\n",
              "      border-bottom-color: var(--fill-color);\n",
              "    }\n",
              "  }\n",
              "</style>\n",
              "\n",
              "  <script>\n",
              "    async function quickchart(key) {\n",
              "      const quickchartButtonEl =\n",
              "        document.querySelector('#' + key + ' button');\n",
              "      quickchartButtonEl.disabled = true;  // To prevent multiple clicks.\n",
              "      quickchartButtonEl.classList.add('colab-df-spinner');\n",
              "      try {\n",
              "        const charts = await google.colab.kernel.invokeFunction(\n",
              "            'suggestCharts', [key], {});\n",
              "      } catch (error) {\n",
              "        console.error('Error during call to suggestCharts:', error);\n",
              "      }\n",
              "      quickchartButtonEl.classList.remove('colab-df-spinner');\n",
              "      quickchartButtonEl.classList.add('colab-df-quickchart-complete');\n",
              "    }\n",
              "    (() => {\n",
              "      let quickchartButtonEl =\n",
              "        document.querySelector('#df-a2b4b88f-6b21-429d-bac1-c79ea709379a button');\n",
              "      quickchartButtonEl.style.display =\n",
              "        google.colab.kernel.accessAllowed ? 'block' : 'none';\n",
              "    })();\n",
              "  </script>\n",
              "</div>\n",
              "\n",
              "  <div id=\"id_3e35aa3b-b9e1-4b33-8fcb-01eb3780c931\">\n",
              "    <style>\n",
              "      .colab-df-generate {\n",
              "        background-color: #E8F0FE;\n",
              "        border: none;\n",
              "        border-radius: 50%;\n",
              "        cursor: pointer;\n",
              "        display: none;\n",
              "        fill: #1967D2;\n",
              "        height: 32px;\n",
              "        padding: 0 0 0 0;\n",
              "        width: 32px;\n",
              "      }\n",
              "\n",
              "      .colab-df-generate:hover {\n",
              "        background-color: #E2EBFA;\n",
              "        box-shadow: 0px 1px 2px rgba(60, 64, 67, 0.3), 0px 1px 3px 1px rgba(60, 64, 67, 0.15);\n",
              "        fill: #174EA6;\n",
              "      }\n",
              "\n",
              "      [theme=dark] .colab-df-generate {\n",
              "        background-color: #3B4455;\n",
              "        fill: #D2E3FC;\n",
              "      }\n",
              "\n",
              "      [theme=dark] .colab-df-generate:hover {\n",
              "        background-color: #434B5C;\n",
              "        box-shadow: 0px 1px 3px 1px rgba(0, 0, 0, 0.15);\n",
              "        filter: drop-shadow(0px 1px 2px rgba(0, 0, 0, 0.3));\n",
              "        fill: #FFFFFF;\n",
              "      }\n",
              "    </style>\n",
              "    <button class=\"colab-df-generate\" onclick=\"generateWithVariable('perf_df')\"\n",
              "            title=\"Generate code using this dataframe.\"\n",
              "            style=\"display:none;\">\n",
              "\n",
              "  <svg xmlns=\"http://www.w3.org/2000/svg\" height=\"24px\"viewBox=\"0 0 24 24\"\n",
              "       width=\"24px\">\n",
              "    <path d=\"M7,19H8.4L18.45,9,17,7.55,7,17.6ZM5,21V16.75L18.45,3.32a2,2,0,0,1,2.83,0l1.4,1.43a1.91,1.91,0,0,1,.58,1.4,1.91,1.91,0,0,1-.58,1.4L9.25,21ZM18.45,9,17,7.55Zm-12,3A5.31,5.31,0,0,0,4.9,8.1,5.31,5.31,0,0,0,1,6.5,5.31,5.31,0,0,0,4.9,4.9,5.31,5.31,0,0,0,6.5,1,5.31,5.31,0,0,0,8.1,4.9,5.31,5.31,0,0,0,12,6.5,5.46,5.46,0,0,0,6.5,12Z\"/>\n",
              "  </svg>\n",
              "    </button>\n",
              "    <script>\n",
              "      (() => {\n",
              "      const buttonEl =\n",
              "        document.querySelector('#id_3e35aa3b-b9e1-4b33-8fcb-01eb3780c931 button.colab-df-generate');\n",
              "      buttonEl.style.display =\n",
              "        google.colab.kernel.accessAllowed ? 'block' : 'none';\n",
              "\n",
              "      buttonEl.onclick = () => {\n",
              "        google.colab.notebook.generateWithVariable('perf_df');\n",
              "      }\n",
              "      })();\n",
              "    </script>\n",
              "  </div>\n",
              "\n",
              "    </div>\n",
              "  </div>\n"
            ],
            "application/vnd.google.colaboratory.intrinsic+json": {
              "type": "dataframe",
              "variable_name": "perf_df",
              "summary": "{\n  \"name\": \"perf_df\",\n  \"rows\": 4,\n  \"fields\": [\n    {\n      \"column\": \"model\",\n      \"properties\": {\n        \"dtype\": \"string\",\n        \"num_unique_values\": 4,\n        \"samples\": [\n          \"KNN\",\n          \"SVM\",\n          \"Logistic Regression\"\n        ],\n        \"semantic_type\": \"\",\n        \"description\": \"\"\n      }\n    },\n    {\n      \"column\": \"train_time\",\n      \"properties\": {\n        \"dtype\": \"number\",\n        \"std\": 8.309204599735319,\n        \"min\": 0.01612257957458496,\n        \"max\": 17.016422271728516,\n        \"num_unique_values\": 4,\n        \"samples\": [\n          0.01612257957458496,\n          17.016422271728516,\n          0.9600486755371094\n        ],\n        \"semantic_type\": \"\",\n        \"description\": \"\"\n      }\n    },\n    {\n      \"column\": \"train_accuracy\",\n      \"properties\": {\n        \"dtype\": \"number\",\n        \"std\": 0.04546646284729705,\n        \"min\": 0.8987776179892797,\n        \"max\": 1.0,\n        \"num_unique_values\": 4,\n        \"samples\": [\n          0.9310040528173618,\n          0.8987776179892797,\n          0.909530657602301\n        ],\n        \"semantic_type\": \"\",\n        \"description\": \"\"\n      }\n    },\n    {\n      \"column\": \"test_accuracy\",\n      \"properties\": {\n        \"dtype\": \"number\",\n        \"std\": 0.008598814826725228,\n        \"min\": 0.8921427637599686,\n        \"max\": 0.9097921296901555,\n        \"num_unique_values\": 4,\n        \"samples\": [\n          0.9078310890312459,\n          0.8964570532095699,\n          0.9097921296901555\n        ],\n        \"semantic_type\": \"\",\n        \"description\": \"\"\n      }\n    }\n  ]\n}"
            }
          },
          "metadata": {},
          "execution_count": 16
        }
      ]
    },
    {
      "cell_type": "markdown",
      "metadata": {
        "id": "nwiQSfe1FEBl"
      },
      "source": [
        "### Problem 11: Improving the Model\n",
        "\n",
        "Now that we have some basic models on the board, we want to try to improve these.  Below, we list a few things to explore in this pursuit.\n",
        "\n",
        "- More feature engineering and exploration.  For example, should we keep the gender feature?  Why or why not?\n",
        "- Hyperparameter tuning and grid search.  All of our models have additional hyperparameters to tune and explore.  For example the number of neighbors in KNN or the maximum depth of a Decision Tree.  \n",
        "- Adjust your performance metric"
      ]
    },
    {
      "cell_type": "code",
      "execution_count": null,
      "metadata": {
        "colab": {
          "base_uri": "https://localhost:8080/"
        },
        "id": "wk0O3bk9FEBl",
        "outputId": "de72840c-ee15-45ac-cdba-5786f8cb86a5"
      },
      "outputs": [
        {
          "output_type": "stream",
          "name": "stdout",
          "text": [
            "The test accuracy is: 0.7068897895149693\n",
            "The train accuracy is: 0.9123087985357563\n",
            "The training time is: 0.21525359153747559 seconds.\n"
          ]
        },
        {
          "output_type": "stream",
          "name": "stderr",
          "text": [
            "/usr/local/lib/python3.11/dist-packages/sklearn/utils/validation.py:2739: UserWarning: X does not have valid feature names, but LogisticRegression was fitted with feature names\n",
            "  warnings.warn(\n"
          ]
        }
      ],
      "source": [
        "#Scaling prior to Logistic Regression\n",
        "from sklearn.preprocessing import StandardScaler\n",
        "scaler = StandardScaler()\n",
        "X_train_scaled = scaler.fit_transform(X_train)\n",
        "X_test_scaled = scaler.transform(X_test)\n",
        "\n",
        "lr_model_scaled = LogisticRegression()\n",
        "#Start timer to capture training time\n",
        "start_time = time.time()\n",
        "lr_model_scaled.fit(X_train_scaled, y_train)\n",
        "#End timer to capture training time\n",
        "end_time = time.time()\n",
        "#Calculate the total training time\n",
        "lr_training_time = end_time - start_time\n",
        "#Make predictions on test data and measure model accuracy\n",
        "lr_test_pred = lr_model.predict(X_test_scaled)\n",
        "lr_test_acc = accuracy_score(y_test, lr_test_pred)\n",
        "print(\"The test accuracy is: \" + str(lr_test_acc))\n",
        "#Make predictions on train data and measure model accuracy\n",
        "lr_train_pred = lr_model_scaled.predict(X_train_scaled)\n",
        "lr_train_acc = accuracy_score(y_train, lr_train_pred)\n",
        "print(\"The train accuracy is: \" + str(lr_train_acc))\n",
        "#Report on total training time for basic LR model\n",
        "print(\"The training time is: \" + str(lr_training_time) + \" seconds.\")\n"
      ]
    },
    {
      "cell_type": "markdown",
      "source": [
        "OBSERVATION: applying scaling to the data worsens the results."
      ],
      "metadata": {
        "id": "USOK7eAgHGXa"
      }
    },
    {
      "cell_type": "code",
      "execution_count": null,
      "metadata": {
        "colab": {
          "base_uri": "https://localhost:8080/"
        },
        "id": "di7zKqF0FEBm",
        "outputId": "3d43d526-078e-4b4e-f662-c2e9cb8a0285"
      },
      "outputs": [
        {
          "output_type": "stream",
          "name": "stdout",
          "text": [
            "Accuracy: 0.9109687540855014\n",
            "The training time is: 0.21525359153747559seconds\n"
          ]
        },
        {
          "output_type": "stream",
          "name": "stderr",
          "text": [
            "/usr/local/lib/python3.11/dist-packages/sklearn/svm/_base.py:1243: ConvergenceWarning: Liblinear failed to converge, increase the number of iterations.\n",
            "  warnings.warn(\n"
          ]
        }
      ],
      "source": [
        "#Improve on Logistic Regression through use of L1 Regularization\n",
        "from sklearn.model_selection import GridSearchCV\n",
        "lr_model_lasso = LogisticRegression(penalty='l1', solver='liblinear', C=1.0, random_state=42)\n",
        "start_time = time.time()\n",
        "lr_model_lasso.fit(X_train, y_train)\n",
        "end_time = time.time()\n",
        "total_train_time = end_time - start_time\n",
        "y_pred = lr_model_lasso.predict(X_test)\n",
        "accuracy = accuracy_score(y_test, y_pred)\n",
        "print(\"Accuracy:\", accuracy)\n",
        "print(\"The training time is: \" + str(lr_training_time) + \"seconds\")"
      ]
    },
    {
      "cell_type": "markdown",
      "source": [
        "OBSERVATION: Using L1 regularization improved on our accuracy from the initial LR model which achieved 90.98%. Additionally, it only slightly increase the training time of the model."
      ],
      "metadata": {
        "id": "5J2wVyb6HAf2"
      }
    },
    {
      "cell_type": "code",
      "execution_count": null,
      "metadata": {
        "colab": {
          "base_uri": "https://localhost:8080/"
        },
        "id": "Ml1WbHVpFEBm",
        "outputId": "03900d04-aa6e-45ea-85a3-418dbd52e1a6"
      },
      "outputs": [
        {
          "output_type": "stream",
          "name": "stdout",
          "text": [
            "The test accuracy is: 0.9134527389201202\n",
            "The train accuracy is: 0.9150542554582298\n",
            "The training time is: 0.08479547500610352 seconds.\n"
          ]
        }
      ],
      "source": [
        "#Explore max depth of decision tree\n",
        "from sklearn.tree import DecisionTreeClassifier\n",
        "dtc = DecisionTreeClassifier(max_depth=4)\n",
        "#Start timer to capture training time\n",
        "start_time = time.time()\n",
        "dtc.fit(X_train, y_train)\n",
        "#End timer to capture training time\n",
        "end_time = time.time()\n",
        "#Calculate the total training time\n",
        "dtc_training_time = end_time - start_time\n",
        "dtc_test_pred = dtc.predict(X_test)\n",
        "dtc_test_acc = accuracy_score(y_test, dtc_test_pred)\n",
        "print(\"The test accuracy is: \" + str(dtc_test_acc))\n",
        "#Make predictions on train data and measure model accuracy\n",
        "dtc_train_pred = dtc.predict(X_train)\n",
        "dtc_train_acc = accuracy_score(y_train, dtc_train_pred)\n",
        "print(\"The train accuracy is: \" + str(dtc_train_acc))\n",
        "#Report on total training time for basic LR model\n",
        "print(\"The training time is: \" + str(dtc_training_time) + \" seconds.\")"
      ]
    },
    {
      "cell_type": "markdown",
      "source": [
        "OBSERVATION: Setting max depth = 4 provides the optimal accuracy and is an improvement on the 89.38% from previous model without depth specified. Additionally, it improved the training time as a result of limiting depth."
      ],
      "metadata": {
        "id": "30EBNhI9G9pU"
      }
    },
    {
      "cell_type": "code",
      "execution_count": null,
      "metadata": {
        "colab": {
          "base_uri": "https://localhost:8080/"
        },
        "id": "nUleH_GjFEBm",
        "outputId": "70c55993-9645-4e7f-e5b6-f0dff541b5b4"
      },
      "outputs": [
        {
          "output_type": "stream",
          "name": "stdout",
          "text": [
            "The test accuracy is: 0.9001176624395346\n",
            "The train accuracy is: 0.9007059746372075\n",
            "The training time is: 0.5017421245574951 seconds.\n"
          ]
        },
        {
          "output_type": "stream",
          "name": "stderr",
          "text": [
            "/usr/local/lib/python3.11/dist-packages/sklearn/linear_model/_logistic.py:465: ConvergenceWarning: lbfgs failed to converge (status=1):\n",
            "STOP: TOTAL NO. of ITERATIONS REACHED LIMIT.\n",
            "\n",
            "Increase the number of iterations (max_iter) or scale the data as shown in:\n",
            "    https://scikit-learn.org/stable/modules/preprocessing.html\n",
            "Please also refer to the documentation for alternative solver options:\n",
            "    https://scikit-learn.org/stable/modules/linear_model.html#logistic-regression\n",
            "  n_iter_i = _check_optimize_result(\n"
          ]
        }
      ],
      "source": [
        "#Evaluate dropping additional features - in this case, drop duration.\n",
        "df_no_duration = df.drop('duration', axis=1)\n",
        "X = df_no_duration.drop('y', axis=1)\n",
        "y = df_no_duration['y']\n",
        "X_train, X_test, y_train, y_test = train_test_split(X, y, test_size=0.2, random_state=42)\n",
        "\n",
        "#Rerun Logistic Regression model\n",
        "import pandas as pd\n",
        "from sklearn.model_selection import train_test_split\n",
        "from sklearn.linear_model import LogisticRegression\n",
        "from sklearn.metrics import accuracy_score\n",
        "import time\n",
        "lr_model = LogisticRegression()\n",
        "#Start timer to capture training time\n",
        "start_time = time.time()\n",
        "lr_model.fit(X_train, y_train)\n",
        "#End timer to capture training time\n",
        "end_time = time.time()\n",
        "#Calculate the total training time\n",
        "lr_training_time = end_time - start_time\n",
        "#Make predictions on test data and measure model accuracy\n",
        "lr_test_pred = lr_model.predict(X_test)\n",
        "lr_test_acc = accuracy_score(y_test, lr_test_pred)\n",
        "print(\"The test accuracy is: \" + str(lr_test_acc))\n",
        "#Make predictions on train data and measure model accuracy\n",
        "lr_train_pred = lr_model.predict(X_train)\n",
        "lr_train_acc = accuracy_score(y_train, lr_train_pred)\n",
        "print(\"The train accuracy is: \" + str(lr_train_acc))\n",
        "#Report on total training time for basic LR model\n",
        "print(\"The training time is: \" + str(lr_training_time) + \" seconds.\")\n"
      ]
    },
    {
      "cell_type": "markdown",
      "source": [
        "OBSERVATION:  removing the DURATION feature had only a very slight improvement, it could be that removal of the other features with UNKNOWN also removed many of the 0 values in the DURATION field."
      ],
      "metadata": {
        "id": "hc4skDPb-R01"
      }
    },
    {
      "cell_type": "code",
      "execution_count": null,
      "metadata": {
        "id": "QlPaP54mFEBp"
      },
      "outputs": [],
      "source": []
    },
    {
      "cell_type": "code",
      "execution_count": null,
      "metadata": {
        "id": "kAe9CH_dFEBp"
      },
      "outputs": [],
      "source": []
    },
    {
      "cell_type": "code",
      "execution_count": null,
      "metadata": {
        "id": "K2eVrdH8FEBq"
      },
      "outputs": [],
      "source": []
    },
    {
      "cell_type": "code",
      "execution_count": null,
      "metadata": {
        "id": "1g7NerBaFEBq"
      },
      "outputs": [],
      "source": []
    },
    {
      "cell_type": "code",
      "execution_count": null,
      "metadata": {
        "id": "GYGQczakFEBq"
      },
      "outputs": [],
      "source": []
    },
    {
      "cell_type": "code",
      "execution_count": null,
      "metadata": {
        "id": "TLNhnNv5FEBq"
      },
      "outputs": [],
      "source": []
    },
    {
      "cell_type": "code",
      "execution_count": null,
      "metadata": {
        "id": "xyWYGqjXFEBq"
      },
      "outputs": [],
      "source": []
    },
    {
      "cell_type": "markdown",
      "metadata": {
        "id": "klAOtxOeFEBq"
      },
      "source": [
        "##### Questions"
      ]
    }
  ],
  "metadata": {
    "kernelspec": {
      "display_name": "Python 3",
      "language": "python",
      "name": "python3"
    },
    "language_info": {
      "codemirror_mode": {
        "name": "ipython",
        "version": 3
      },
      "file_extension": ".py",
      "mimetype": "text/x-python",
      "name": "python",
      "nbconvert_exporter": "python",
      "pygments_lexer": "ipython3",
      "version": "3.8.8"
    },
    "colab": {
      "provenance": [],
      "include_colab_link": true
    }
  },
  "nbformat": 4,
  "nbformat_minor": 0
}